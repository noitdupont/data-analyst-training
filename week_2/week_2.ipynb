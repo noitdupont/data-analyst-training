{
 "cells": [
  {
   "cell_type": "code",
   "execution_count": 53,
   "id": "26c03196",
   "metadata": {},
   "outputs": [
    {
     "name": "stdout",
     "output_type": "stream",
     "text": [
      "Requirement already satisfied: PyMySQL in /Users/finn/Desktop/data-analyst-training/.venv/lib/python3.11/site-packages (1.1.1)\n",
      "Requirement already satisfied: pandas in /Users/finn/Desktop/data-analyst-training/.venv/lib/python3.11/site-packages (2.3.1)\n",
      "Requirement already satisfied: numpy>=1.23.2 in /Users/finn/Desktop/data-analyst-training/.venv/lib/python3.11/site-packages (from pandas) (2.3.2)\n",
      "Requirement already satisfied: python-dateutil>=2.8.2 in /Users/finn/Desktop/data-analyst-training/.venv/lib/python3.11/site-packages (from pandas) (2.9.0.post0)\n",
      "Requirement already satisfied: pytz>=2020.1 in /Users/finn/Desktop/data-analyst-training/.venv/lib/python3.11/site-packages (from pandas) (2025.2)\n",
      "Requirement already satisfied: tzdata>=2022.7 in /Users/finn/Desktop/data-analyst-training/.venv/lib/python3.11/site-packages (from pandas) (2025.2)\n",
      "Requirement already satisfied: six>=1.5 in /Users/finn/Desktop/data-analyst-training/.venv/lib/python3.11/site-packages (from python-dateutil>=2.8.2->pandas) (1.17.0)\n",
      "\n",
      "\u001b[1m[\u001b[0m\u001b[34;49mnotice\u001b[0m\u001b[1;39;49m]\u001b[0m\u001b[39;49m A new release of pip is available: \u001b[0m\u001b[31;49m24.0\u001b[0m\u001b[39;49m -> \u001b[0m\u001b[32;49m25.2\u001b[0m\n",
      "\u001b[1m[\u001b[0m\u001b[34;49mnotice\u001b[0m\u001b[1;39;49m]\u001b[0m\u001b[39;49m To update, run: \u001b[0m\u001b[32;49mpip install --upgrade pip\u001b[0m\n"
     ]
    }
   ],
   "source": [
    "!pip install PyMySQL pandas"
   ]
  },
  {
   "cell_type": "markdown",
   "id": "a6ab9932",
   "metadata": {},
   "source": [
    "## Database Connection Setup"
   ]
  },
  {
   "cell_type": "code",
   "execution_count": 54,
   "id": "5188ad65",
   "metadata": {},
   "outputs": [],
   "source": [
    "import pymysql.cursors\n",
    "import pandas as pd\n",
    "\n",
    "# Connect to MySQL database locally\n",
    "connection = pymysql.connect(\n",
    "    host='localhost',\n",
    "    user='root',\n",
    "    password='',\n",
    "    database='Northwind',  # Specify the database directly\n",
    "    cursorclass=pymysql.cursors.DictCursor\n",
    ")\n",
    "\n",
    "# Create a cursor\n",
    "cursor = connection.cursor()"
   ]
  },
  {
   "cell_type": "markdown",
   "id": "99389ce0",
   "metadata": {},
   "source": [
    "## Execute Query Helper Function"
   ]
  },
  {
   "cell_type": "code",
   "execution_count": null,
   "id": "c5d38cac",
   "metadata": {},
   "outputs": [],
   "source": [
    "def execute_query(query):\n",
    "    \"\"\"Execute SQL query and return results as DataFrame\"\"\"\n",
    "    try:\n",
    "        cursor.execute(query)\n",
    "        results = cursor.fetchall()\n",
    "        return pd.DataFrame(results)\n",
    "    except Exception as e:\n",
    "        print(f\"Error executing query: {e}\")\n",
    "        return None"
   ]
  },
  {
   "cell_type": "markdown",
   "id": "452fdf31",
   "metadata": {},
   "source": [
    "## View All Customers"
   ]
  },
  {
   "cell_type": "code",
   "execution_count": 56,
   "id": "a763e226",
   "metadata": {},
   "outputs": [
    {
     "name": "stdout",
     "output_type": "stream",
     "text": [
      "    CustomerID                        CustomerName         ContactName  \\\n",
      "0            1                 Alfreds Futterkiste        Maria Anders   \n",
      "1            2  Ana Trujillo Emparedados y helados        Ana Trujillo   \n",
      "2            3             Antonio Moreno Taquería      Antonio Moreno   \n",
      "3            4                     Around the Horn        Thomas Hardy   \n",
      "4            5                  Berglunds snabbköp  Christina Berglund   \n",
      "..         ...                                 ...                 ...   \n",
      "86          87                      Wartian Herkku    Pirkko Koskitalo   \n",
      "87          88              Wellington Importadora       Paula Parente   \n",
      "88          89                White Clover Markets      Karl Jablonski   \n",
      "89          90                         Wilman Kala     Matti Karttunen   \n",
      "90          91                              Wolski             Zbyszek   \n",
      "\n",
      "                          Address         City PostalCode  Country  \n",
      "0                   Obere Str. 57       Berlin      12209  Germany  \n",
      "1   Avda. de la Constitución 2222  México D.F.       5021   Mexico  \n",
      "2                  Mataderos 2312  México D.F.       5023   Mexico  \n",
      "3                 120 Hanover Sq.       London    WA1 1DP       UK  \n",
      "4                  Berguvsvägen 8        Luleå   S-958 22   Sweden  \n",
      "..                            ...          ...        ...      ...  \n",
      "86                    Torikatu 38         Oulu      90110  Finland  \n",
      "87             Rua do Mercado, 12      Resende  08737-363   Brazil  \n",
      "88    305 - 14th Ave. S. Suite 3B      Seattle      98128      USA  \n",
      "89                  Keskuskatu 45     Helsinki      21240  Finland  \n",
      "90                ul. Filtrowa 68        Walla     01-012   Poland  \n",
      "\n",
      "[91 rows x 7 columns]\n"
     ]
    }
   ],
   "source": [
    "## Execute your SQL query\n",
    "result = execute_query(\"SELECT * FROM Customers\")  # Replace 'Customers' with your desired table name\n",
    "print(result)"
   ]
  },
  {
   "cell_type": "markdown",
   "id": "74bb28d0",
   "metadata": {},
   "source": [
    "## Customer Names and Countries"
   ]
  },
  {
   "cell_type": "code",
   "execution_count": 57,
   "id": "9c820f92",
   "metadata": {},
   "outputs": [
    {
     "name": "stdout",
     "output_type": "stream",
     "text": [
      "                          CustomerName  Country\n",
      "0                  Alfreds Futterkiste  Germany\n",
      "1   Ana Trujillo Emparedados y helados   Mexico\n",
      "2              Antonio Moreno Taquería   Mexico\n",
      "3                      Around the Horn       UK\n",
      "4                   Berglunds snabbköp   Sweden\n",
      "..                                 ...      ...\n",
      "86                      Wartian Herkku  Finland\n",
      "87              Wellington Importadora   Brazil\n",
      "88                White Clover Markets      USA\n",
      "89                         Wilman Kala  Finland\n",
      "90                              Wolski   Poland\n",
      "\n",
      "[91 rows x 2 columns]\n"
     ]
    }
   ],
   "source": [
    "## Execute the SQL query\n",
    "result = execute_query(\"SELECT CustomerName, Country FROM Customers;\")\n",
    "\n",
    "## Print result\n",
    "print(result)"
   ]
  },
  {
   "cell_type": "markdown",
   "id": "f805222e",
   "metadata": {},
   "source": [
    "## French Customers and Their Cities (Without Comments)"
   ]
  },
  {
   "cell_type": "code",
   "execution_count": 58,
   "id": "5086b936",
   "metadata": {},
   "outputs": [
    {
     "name": "stdout",
     "output_type": "stream",
     "text": [
      "                 CustomerName        City\n",
      "0        Blondel père et fils  Strasbourg\n",
      "1                   Bon app''   Marseille\n",
      "2             Du monde entier      Nantes\n",
      "3           Folies gourmandes       Lille\n",
      "4         France restauration      Nantes\n",
      "5       La corne d''abondance  Versailles\n",
      "6           La maison d''Asie    Toulouse\n",
      "7           Paris spécialités       Paris\n",
      "8        Spécialités du monde       Paris\n",
      "9        Victuailles en stock        Lyon\n",
      "10  Vins et alcools Chevalier       Reims\n"
     ]
    }
   ],
   "source": [
    "## Execute the SQL query\n",
    "result = execute_query(\"SELECT CustomerName, City FROM Customers WHERE Country = 'France';\")\n",
    "print(result)"
   ]
  },
  {
   "cell_type": "markdown",
   "id": "8d944ee8",
   "metadata": {},
   "source": [
    "## Most Expensive Products"
   ]
  },
  {
   "cell_type": "code",
   "execution_count": 59,
   "id": "edec69b6",
   "metadata": {},
   "outputs": [
    {
     "name": "stdout",
     "output_type": "stream",
     "text": [
      "               ProductName Price\n",
      "0          Mishi Kobe Niku    97\n",
      "1         Carnarvon Tigers    63\n",
      "2   Sir Rodney's Marmalade    81\n",
      "3  Thüringer Rostbratwurst   124\n",
      "4            Côte de Blaye   264\n",
      "5    Manjimup Dried Apples    53\n",
      "6     Raclette Courdavault    55\n"
     ]
    }
   ],
   "source": [
    "## Execute the SQL query\n",
    "result = execute_query(\"SELECT ProductName, Price FROM Products WHERE Price > 50;\")\n",
    "print(result)"
   ]
  },
  {
   "cell_type": "markdown",
   "id": "af1f257c",
   "metadata": {},
   "source": [
    "## Pattern Matching with LIKE"
   ]
  },
  {
   "cell_type": "code",
   "execution_count": 60,
   "id": "144f825a",
   "metadata": {},
   "outputs": [
    {
     "name": "stdout",
     "output_type": "stream",
     "text": [
      "                CustomerName        City  Country\n",
      "0         Berglunds snabbköp       Luleå   Sweden\n",
      "1    Blauer See Delikatessen    Mannheim  Germany\n",
      "2       Blondel père et fils  Strasbourg   France\n",
      "3  Bólido Comidas preparadas      Madrid    Spain\n",
      "4                  Bon app''   Marseille   France\n",
      "5     Bottom-Dollar Marketse   Tsawassen   Canada\n",
      "6             B''s Beverages      London       UK\n"
     ]
    }
   ],
   "source": [
    "## Execute the SQL query\n",
    "result = execute_query(\"SELECT CustomerName, City, Country FROM Customers WHERE CustomerName LIKE 'B%';\")\n",
    "print(result)"
   ]
  },
  {
   "cell_type": "markdown",
   "id": "90998b98",
   "metadata": {},
   "source": [
    "## Customers Sorted Alphabetically (Ascending)"
   ]
  },
  {
   "cell_type": "code",
   "execution_count": 61,
   "id": "fd93269d",
   "metadata": {},
   "outputs": [
    {
     "name": "stdout",
     "output_type": "stream",
     "text": [
      "                          CustomerName  Country\n",
      "0                  Alfreds Futterkiste  Germany\n",
      "1   Ana Trujillo Emparedados y helados   Mexico\n",
      "2              Antonio Moreno Taquería   Mexico\n",
      "3                      Around the Horn       UK\n",
      "4                       B''s Beverages       UK\n",
      "..                                 ...      ...\n",
      "86                      Wartian Herkku  Finland\n",
      "87              Wellington Importadora   Brazil\n",
      "88                White Clover Markets      USA\n",
      "89                         Wilman Kala  Finland\n",
      "90                              Wolski   Poland\n",
      "\n",
      "[91 rows x 2 columns]\n"
     ]
    }
   ],
   "source": [
    "## Execute the SQL query\n",
    "result = execute_query(\"SELECT CustomerName, Country FROM Customers ORDER BY CustomerName ASC;\")\n",
    "print(result)"
   ]
  },
  {
   "cell_type": "markdown",
   "id": "b4fb0ded",
   "metadata": {},
   "source": [
    "## Customers Sorted Alphabetically (Descending)"
   ]
  },
  {
   "cell_type": "code",
   "execution_count": 62,
   "id": "20deee7d",
   "metadata": {},
   "outputs": [
    {
     "name": "stdout",
     "output_type": "stream",
     "text": [
      "                          CustomerName  Country\n",
      "0                               Wolski   Poland\n",
      "1                          Wilman Kala  Finland\n",
      "2                 White Clover Markets      USA\n",
      "3               Wellington Importadora   Brazil\n",
      "4                       Wartian Herkku  Finland\n",
      "..                                 ...      ...\n",
      "86                      B''s Beverages       UK\n",
      "87                     Around the Horn       UK\n",
      "88             Antonio Moreno Taquería   Mexico\n",
      "89  Ana Trujillo Emparedados y helados   Mexico\n",
      "90                 Alfreds Futterkiste  Germany\n",
      "\n",
      "[91 rows x 2 columns]\n"
     ]
    }
   ],
   "source": [
    "## Execute the SQL query\n",
    "result = execute_query(\"SELECT CustomerName, Country FROM Customers ORDER BY CustomerName DESC;\")\n",
    "print(result)"
   ]
  },
  {
   "cell_type": "markdown",
   "id": "758c77a3",
   "metadata": {},
   "source": [
    "## Top 5 Most Expensive Products"
   ]
  },
  {
   "cell_type": "code",
   "execution_count": 63,
   "id": "25505c6e",
   "metadata": {},
   "outputs": [
    {
     "name": "stdout",
     "output_type": "stream",
     "text": [
      "               ProductName Price\n",
      "0            Côte de Blaye   264\n",
      "1  Thüringer Rostbratwurst   124\n",
      "2          Mishi Kobe Niku    97\n",
      "3   Sir Rodney's Marmalade    81\n",
      "4         Carnarvon Tigers    63\n"
     ]
    }
   ],
   "source": [
    "## Execute the SQL query\n",
    "result = execute_query(\"SELECT ProductName, Price FROM Products ORDER BY Price DESC LIMIT 5;\")\n",
    "print(result)"
   ]
  },
  {
   "cell_type": "markdown",
   "id": "0bc9ade6",
   "metadata": {},
   "source": [
    "## 10 Most Recent Orders"
   ]
  },
  {
   "cell_type": "code",
   "execution_count": 64,
   "id": "89d6338f",
   "metadata": {},
   "outputs": [
    {
     "name": "stdout",
     "output_type": "stream",
     "text": [
      "   OrderID  OrderDate  CustomerID\n",
      "0    10443 1997-02-12          66\n",
      "1    10442 1997-02-11          20\n",
      "2    10440 1997-02-10          71\n",
      "3    10441 1997-02-10          55\n",
      "4    10439 1997-02-07          51\n",
      "5    10438 1997-02-06          79\n",
      "6    10436 1997-02-05           7\n",
      "7    10437 1997-02-05          87\n",
      "8    10435 1997-02-04          16\n",
      "9    10434 1997-02-03          24\n"
     ]
    }
   ],
   "source": [
    "## Execute the SQL query\n",
    "result = execute_query(\"SELECT OrderID, OrderDate, CustomerID FROM Orders ORDER BY OrderDate DESC LIMIT 10;\")\n",
    "print(result)"
   ]
  },
  {
   "cell_type": "markdown",
   "id": "72795f6d",
   "metadata": {},
   "source": [
    "## Top 3 French Customers by Name"
   ]
  },
  {
   "cell_type": "code",
   "execution_count": 65,
   "id": "e64229a4",
   "metadata": {},
   "outputs": [
    {
     "name": "stdout",
     "output_type": "stream",
     "text": [
      "           CustomerName         ContactName        City\n",
      "0  Blondel père et fils  Frédérique Citeaux  Strasbourg\n",
      "1             Bon app''   Laurence Lebihans   Marseille\n",
      "2       Du monde entier      Janine Labrune      Nantes\n"
     ]
    }
   ],
   "source": [
    "## Execute the SQL query\n",
    "result = execute_query(\"SELECT CustomerName, ContactName, City FROM Customers WHERE Country = 'France' ORDER BY CustomerName ASC LIMIT 3;\")\n",
    "print(result)"
   ]
  },
  {
   "cell_type": "markdown",
   "id": "861c1841",
   "metadata": {},
   "source": [
    "## 5 Cheapest Products Under £20"
   ]
  },
  {
   "cell_type": "code",
   "execution_count": 66,
   "id": "692ee983",
   "metadata": {},
   "outputs": [
    {
     "name": "stdout",
     "output_type": "stream",
     "text": [
      "          ProductName Price              Unit\n",
      "0             Geitost     3             500 g\n",
      "1  Guaraná Fantástica     5  12 - 355 ml cans\n",
      "2               Konbu     6          2 kg box\n",
      "3            Filo Mix     7   16 - 2 kg boxes\n",
      "4           Tourtière     7           16 pies\n"
     ]
    }
   ],
   "source": [
    "## Execute the SQL query\n",
    "result = execute_query(\"SELECT ProductName, Price, Unit FROM Products WHERE Price < 20 ORDER BY Price ASC LIMIT 5;\")\n",
    "print(result)"
   ]
  },
  {
   "cell_type": "markdown",
   "id": "b9ca20ea",
   "metadata": {},
   "source": [
    "## 10 Cheapest Products Under £20"
   ]
  },
  {
   "cell_type": "code",
   "execution_count": 67,
   "id": "2d7ba75a",
   "metadata": {},
   "outputs": [
    {
     "name": "stdout",
     "output_type": "stream",
     "text": [
      "                       ProductName Price                  Unit\n",
      "0                          Geitost     3                 500 g\n",
      "1               Guaraná Fantástica     5      12 - 355 ml cans\n",
      "2                            Konbu     6              2 kg box\n",
      "3                        Tourtière     7               16 pies\n",
      "4                         Filo Mix     7       16 - 2 kg boxes\n",
      "5             Rhönbräu Klosterbier     8    24 - 0.5 l bottles\n",
      "6       Teatime Chocolate Biscuits     9  10 boxes x 12 pieces\n",
      "7                         Tunnbröd     9      12 - 250 g pkgs.\n",
      "8                    Aniseed Syrup    10   12 - 550 ml bottles\n",
      "9  Jack's New England Clam Chowder    10       12 - 12 oz cans\n"
     ]
    }
   ],
   "source": [
    "## Execute the SQL query\n",
    "result = execute_query(\"SELECT ProductName, Price, Unit FROM Products WHERE Price < 20 ORDER BY Price ASC LIMIT 10;\")\n",
    "print(result)"
   ]
  }
 ],
 "metadata": {
  "kernelspec": {
   "display_name": ".venv",
   "language": "python",
   "name": "python3"
  },
  "language_info": {
   "codemirror_mode": {
    "name": "ipython",
    "version": 3
   },
   "file_extension": ".py",
   "mimetype": "text/x-python",
   "name": "python",
   "nbconvert_exporter": "python",
   "pygments_lexer": "ipython3",
   "version": "3.11.13"
  }
 },
 "nbformat": 4,
 "nbformat_minor": 5
}
